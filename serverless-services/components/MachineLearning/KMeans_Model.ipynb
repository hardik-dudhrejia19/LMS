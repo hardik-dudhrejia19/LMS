{
 "cells": [
  {
   "cell_type": "code",
   "execution_count": 51,
   "metadata": {},
   "outputs": [],
   "source": [
    "import pickle\n",
    "import pandas as pd\n",
    "from sklearn.cluster import KMeans\n",
    "from sklearn.datasets import fetch_20newsgroups\n",
    "from sklearn.feature_extraction.text import TfidfVectorizer"
   ]
  },
  {
   "cell_type": "code",
   "execution_count": 55,
   "metadata": {},
   "outputs": [],
   "source": [
    "dataset = fetch_20newsgroups(subset='all')"
   ]
  },
  {
   "cell_type": "code",
   "execution_count": 56,
   "metadata": {},
   "outputs": [],
   "source": [
    "content = dataset.data\n",
    "target  = dataset.target"
   ]
  },
  {
   "cell_type": "code",
   "execution_count": 57,
   "metadata": {},
   "outputs": [
    {
     "name": "stdout",
     "output_type": "stream",
     "text": [
      "The length of the content is 18846\n",
      "The length of the target is 18846\n"
     ]
    }
   ],
   "source": [
    "print(\"The length of the content is\",len(content))\n",
    "print(\"The length of the target is\",len(target))"
   ]
  },
  {
   "cell_type": "code",
   "execution_count": 32,
   "metadata": {},
   "outputs": [
    {
     "name": "stdout",
     "output_type": "stream",
     "text": [
      "Min cluster group 0 Max cluster group 19\n"
     ]
    }
   ],
   "source": [
    "print(\"Min cluster group\",min(target),\"Max cluster group\",max(target))"
   ]
  },
  {
   "cell_type": "code",
   "execution_count": 34,
   "metadata": {},
   "outputs": [
    {
     "name": "stdout",
     "output_type": "stream",
     "text": [
      "From: Mamatha Devineni Ratnam <mr47+@andrew.cmu.edu>\n",
      "Subject: Pens fans reactions\n",
      "Organization: Post Office, Carnegie Mellon, Pittsburgh, PA\n",
      "Lines: 12\n",
      "NNTP-Posting-Host: po4.andrew.cmu.edu\n",
      "\n",
      "\n",
      "\n",
      "I am sure some bashers of Pens fans are pretty confused about the lack\n",
      "of any kind of posts about the recent Pens massacre of the Devils. Actually,\n",
      "I am  bit puzzled too and a bit relieved. However, I am going to put an end\n",
      "to non-PIttsburghers' relief with a bit of praise for the Pens. Man, they\n",
      "are killing those Devils worse than I thought. Jagr just showed you why\n",
      "he is much better than his regular season stats. He is also a lot\n",
      "fo fun to watch in the playoffs. Bowman should let JAgr have a lot of\n",
      "fun in the next couple of games since the Pens are going to beat the pulp out of Jersey anyway. I was very disappointed not to see the Islanders lose the final\n",
      "regular season game.          PENS RULE!!!\n",
      "\n",
      "\n"
     ]
    }
   ],
   "source": [
    "print(content[0])"
   ]
  },
  {
   "cell_type": "code",
   "execution_count": 35,
   "metadata": {},
   "outputs": [
    {
     "name": "stdout",
     "output_type": "stream",
     "text": [
      "From: mblawson@midway.ecn.uoknor.edu (Matthew B Lawson)\n",
      "Subject: Which high-performance VLB video card?\n",
      "Summary: Seek recommendations for VLB video card\n",
      "Nntp-Posting-Host: midway.ecn.uoknor.edu\n",
      "Organization: Engineering Computer Network, University of Oklahoma, Norman, OK, USA\n",
      "Keywords: orchid, stealth, vlb\n",
      "Lines: 21\n",
      "\n",
      "  My brother is in the market for a high-performance video card that supports\n",
      "VESA local bus with 1-2MB RAM.  Does anyone have suggestions/ideas on:\n",
      "\n",
      "  - Diamond Stealth Pro Local Bus\n",
      "\n",
      "  - Orchid Farenheit 1280\n",
      "\n",
      "  - ATI Graphics Ultra Pro\n",
      "\n",
      "  - Any other high-performance VLB card\n",
      "\n",
      "\n",
      "Please post or email.  Thank you!\n",
      "\n",
      "  - Matt\n",
      "\n",
      "-- \n",
      "    |  Matthew B. Lawson <------------> (mblawson@essex.ecn.uoknor.edu)  |   \n",
      "  --+-- \"Now I, Nebuchadnezzar, praise and exalt and glorify the King  --+-- \n",
      "    |   of heaven, because everything he does is right and all his ways  |   \n",
      "    |   are just.\" - Nebuchadnezzar, king of Babylon, 562 B.C.           |   \n",
      "\n"
     ]
    }
   ],
   "source": [
    "print(content[1])"
   ]
  },
  {
   "cell_type": "code",
   "execution_count": 58,
   "metadata": {},
   "outputs": [
    {
     "name": "stdout",
     "output_type": "stream",
     "text": [
      "From: bluelobster+@cmu.edu (David O Hunt)\n",
      "Subject: Re: How I got saved...\n",
      "Organization: Carnegie Mellon, Pittsburgh, PA\n",
      "Lines: 44\n",
      "\n",
      "My first and most important point is that regardless of how your recovery\n",
      "happened, I'm glad it did!\n",
      "\n",
      "On 10-May-93 in Re: How I got saved...       \n",
      "user Karen Lauro@camelot.brad writes:\n",
      ">\tI found it ore than coincidental that less than 2 weeks after\n",
      ">I put my faith where my mouth was, one more in the long line of doctors\n",
      ">and not even an orthopeodic specialist, diagnosed my problems with no\n",
      ">difficulty, set me on the path to an effective cure, and I was walking\n",
      ">and running again without the pain that had stopped me from that for\n",
      ">4 years. The diagnosis was something he felt the other doctors must have\n",
      ">\"overlooked\" because it was perfectly obvious from my test results.\n",
      "\n",
      "NOW!  The point that I'll try to make is that coincidences like this occur\n",
      "with a very high frequency.  How many of us have been thinking of someone\n",
      "and had that person call?  Much of the whole psychic phenomenon is easily\n",
      "explicable by this - one forgets the misses.  Consider your astrological\n",
      "forcast in the newspaper.  How many times have you said \"That's me\" vs\n",
      "\"That's not me\"?  You'll remember the hits, but the misses will be much more\n",
      "frequent.\n",
      "\n",
      "On 10-May-93 in Re: How I got saved...       \n",
      "user Karen Lauro@camelot.brad writes:\n",
      ">\tMaybe this doesn't hit you as miraculous. But to me it really\n",
      ">is. Imagine an active 17 year old being told she may not be able to\n",
      ">walk mcuh longer...and is now a happy 18 year old who can dance and run\n",
      ">knowing that the problem was there all along and was \"revealed\" just\n",
      ">after she did what she knew was right. As the song says...\n",
      "\n",
      "And what if, instead if being healed, your affliction got much worse and\n",
      "you ended up paralyzed?  Would you have attributed that to god as well?\n",
      "Or would that have been the work of satan?  If you believe that would have\n",
      "been so, why ONLY good from god, and ONLY evil from satan?  Couldn't the\n",
      "agony have come from god?  Think about what he did to poor Job!\n",
      "\n",
      "\n",
      "\n",
      "David Hunt - Graduate Slave |     My mind is my own.      | Towards both a\n",
      "Mechanical Engineering      | So are my ideas & opinions. | Palestinian and\n",
      "Carnegie Mellon University  | <<<Use Golden Rule v2.0>>>  | Jewish homeland!\n",
      "====T=H=E=R=E===I=S===N=O===G=O=D=========T=H=E=R=E===I=S===N=O===G=O=D=====\n",
      "Email:  bluelobster+@cmu.edu    Working towards my \"Piled Higher and Deeper\"\n",
      "\n",
      "The gostak distims the doches!\n",
      "\n"
     ]
    }
   ],
   "source": [
    "print(content[500])"
   ]
  },
  {
   "cell_type": "code",
   "execution_count": 60,
   "metadata": {},
   "outputs": [
    {
     "name": "stdout",
     "output_type": "stream",
     "text": [
      "From: mmatusev@radford.vak12ed.edu (Melissa N. Matusevich)\n",
      "Subject: Foreskin Troubles\n",
      "Organization: Virginia's Public Education Network (Radford)\n",
      "Lines: 3\n",
      "\n",
      "What can be done, short of circumcision, for an adult male\n",
      "whose foreskin will not retract?\n",
      "\n",
      "\n"
     ]
    }
   ],
   "source": [
    "print(content[1000])"
   ]
  },
  {
   "cell_type": "code",
   "execution_count": 61,
   "metadata": {},
   "outputs": [
    {
     "name": "stdout",
     "output_type": "stream",
     "text": [
      "From: asphaug@lpl.arizona.edu (Erik Asphaug x2773)\n",
      "Subject: Re: CAMPING was Help with backpack\n",
      "Organization: Lunar & Planetary Laboratory, Tucson AZ.\n",
      "Lines: 24\n",
      "\n",
      "In article <1993Apr14.193739.13359@rtsg.mot.com> svoboda@rtsg.mot.com (David Svoboda) writes:\n",
      ">In article <1993Apr13.152706.27518@bnr.ca> Dave Dal Farra <gpz750@bnr.ca> writes:\n",
      ">|My crafty girfriend makes campfire/bbq starters a la McGiver:\n",
      ">Well, heck, if you're going to make them yourself, you can buy\n",
      ">candle-wax by the pound--much cheper than the candles themselves.\n",
      "\n",
      "Hell, just save your candle stubs and bring them.  Light them up, and\n",
      "dribble the wax all over the kindling wood and light _that_.  Although\n",
      "I like the belly-button lint / eggshell case idea the best, if you're\n",
      "feeling particularly industrious some eventful evening.  Or you can\n",
      "do what I did one soggy summer: open the fuel line, drain some onto a \n",
      "piece of rough or rotten wood, stick that into the middle of the soon-to-\n",
      "be inferno and CAREFULLY strike a match... As Kurt Vonnegut titled one\n",
      "of the latter chapters in Cat's Cradle, \"Ah-Whoom!\"\n",
      "\n",
      "Works like a charm every time :-)\n",
      "\n",
      "\n",
      "/-----b-o-d-y---i-s---t-h-e---b-i-k-e----------------------------\\\n",
      "|                                                                |\n",
      "|     DoD# 88888           asphaug@hindmost.lpl.arizona.edu      |\n",
      "|  '90 Kawi Zephyr                  (Erik Asphaug)               |\n",
      "|   '86 BMW R80GS                                                |\n",
      "\\-----------------------s-o-u-l---i-s---t-h-e---r-i-d-e-r--------/\n",
      "\n"
     ]
    }
   ],
   "source": [
    "print(content[1300])"
   ]
  },
  {
   "cell_type": "code",
   "execution_count": 62,
   "metadata": {},
   "outputs": [
    {
     "name": "stdout",
     "output_type": "stream",
     "text": [
      "From: ab4z@virginia.edu (Andi Beyer)\n",
      "Subject: Translations\n",
      "Organization: University of Virginia\n",
      "Lines: 2\n",
      "\n",
      "Which Version of the Bible do you consider to be the most\n",
      "accurate translation?\n",
      "\n"
     ]
    }
   ],
   "source": [
    "print(content[1600])"
   ]
  },
  {
   "cell_type": "code",
   "execution_count": 63,
   "metadata": {},
   "outputs": [
    {
     "name": "stdout",
     "output_type": "stream",
     "text": [
      "From: tomh@metrics.com (Tom Haapanen)\n",
      "Subject: RFD: comp.os.ms-windows.nt.{misc,setup}\n",
      "Organization: Software Metrics Inc.\n",
      "Lines: 76\n",
      "NNTP-Posting-Host: rodan.uu.net\n",
      "\n",
      "This is the official Request for Discussion (RFD) for the creation of two\n",
      "new newsgroups for Microsoft Windows NT.  This is a second RFD, replacing\n",
      "the one originally posted in January '93 (and never taken to a vote).  The\n",
      "proposed groups are described below:\n",
      "\n",
      "NAME: \t comp.os.ms-windows.nt.setup\n",
      "STATUS:  Unmoderated.\n",
      "PURPOSE: Discussions about setting up and installing Windows NT, and about\n",
      "\t system and peripheral compatability issues for Windows NT.\n",
      "\n",
      "NAME:\t comp.os.ms-windows.nt.misc\n",
      "STATUS:\t Unmoderated.\n",
      "PURPOSE: Miscellaneous non-programming discussions about using Windows NT,\n",
      "\t including issues such as security, networking features, console\n",
      "\t mode and Windows 3.1 (Win16) compatability.\n",
      "\n",
      "RATIONALE:\n",
      "\tMicrosoft NT is the newest member of the Microsoft Windows family\n",
      "\tof operating systems (or operating environments for those who wish\n",
      "\tto argue about the meaning of an \"OS\").  The family ranges from\n",
      "\tModular Windows through Windows 3.1 and Windows for Workgroups to\n",
      "\tWindows NT at the high end.  To date, Microsoft has shipped over\n",
      "\t50,000 beta copies and pre-release SDKs of Windows NT -- the\n",
      "\tactual release is slated for May/June '93.\n",
      "\n",
      "\tWhile Windows NT has an entirely new design internally, it shares\n",
      "\tan application programming interface with the other members of the\n",
      "\tWindows family; its Win32 API includes the Win16 API used in Win-\n",
      "\tdows 3.1, and the Win32s API subset (Win32 less threads, networking\n",
      "\tand security) can be used to create 32-bit applications for\n",
      "\tWindows 3.1.\n",
      "\n",
      "\tThe user interface is also practically identical to that of Windows\n",
      "\t3.1, with the addition of logins and a few other features.  It uses\n",
      "\tProgram Manager, File Manager and other applets, and generally pre-\n",
      "\tsents an identical appearance to the user.  Many of the announced\n",
      "\tWindows NT applications are ports of existing Windows 3.1 apps, and\n",
      "\tNT also runs existing 3.1 applications.\n",
      "\n",
      "\tThus, it appears logical that Windows NT should share the following\n",
      "\tgroups with the other members of the Windows family:\n",
      "\t\tcomp.os.ms-windows.apps\n",
      "\t\tcomp.os.ms-windows.programmer.tools\n",
      "\t\tcomp.os.ms-windows.programmer.misc\n",
      "\t\tcomp.os.ms-windows.programmer.win32\n",
      "\t\n",
      "\tThe following groups are also clearly applicable to Windows NT as\n",
      "\twell as Windows 3.1:\n",
      "\t\tcomp.os.ms-windows.announce\n",
      "\t\tcomp.os.ms-windows.advocacy\n",
      "\t\n",
      "\tIn conclusion, the only clear argument for the separation of the\n",
      "\tWindows 3.1 and Windows NT hierarchies is different internal\n",
      "\tstructures of Windows 3.1 and Windows NT.  And yet operating\n",
      "\tsystems such as OS/2, Macintosh OS, Xenix and Coherent all have\n",
      "\tundergone major rewrites without having been split into separate\n",
      "\tnewsgroup hierarchies.\n",
      "\n",
      "\tFurther, Windows 3.1 is due for a major rewrite itself in 1994 --\n",
      "\twhen the fully 32-bit, protected-mode and with-DOS-built-in next-\n",
      "\tgeneration Windows, \"Chicago\", debuts next year, surely it should\n",
      "\tremain in the same hierarchy.  And what, then, would be the jus-\n",
      "\ttification for separating Windows NT from other Windows versions?\n",
      "\n",
      "\n",
      "DISCUSSION PERIOD:\n",
      "\tThe discussion period will run from 27 April, 1992 to 18 May, 1993.  \n",
      "\n",
      "VOTING:\n",
      "\tThe CFV (Call for Votes) will be issued around 19 May, 1993, based on\n",
      "\tthe feedback received during the discussion period.  No votes will\n",
      "\tbe accepted prior to the CFV.\n",
      "-- \n",
      "[ /tom haapanen -- tomh@metrics.com -- software metrics inc -- waterloo, ont ]\n",
      "[       \"stick your index fingers into both corners of your mouth.  now pull ]\n",
      "[          up.  that's how the corrado makes you feel.\"  -- car, january '93 ]\n",
      "\n"
     ]
    }
   ],
   "source": [
    "print(content[2000])"
   ]
  },
  {
   "cell_type": "code",
   "execution_count": 65,
   "metadata": {},
   "outputs": [
    {
     "name": "stdout",
     "output_type": "stream",
     "text": [
      "From: darice@yoyo.cc.monash.edu.au (Fred Rice)\n",
      "Subject: Re: islamic genocide\n",
      "Organization: Monash University, Melb., Australia.\n",
      "Lines: 49\n",
      "\n",
      "In <2943927496.1.p00261@psilink.com> \"Robert Knowles\" <p00261@psilink.com> writes:\n",
      "\n",
      ">>DATE:   14 Apr 1993 23:52:11 GMT\n",
      ">>FROM:   Frank O'Dwyer <frank@D012S658.uucp>\n",
      ">>\n",
      ">>In article <1993Apr14.102810.6059@monu6.cc.monash.edu.au> darice@yoyo.cc.monash.edu.au (Fred Rice) writes:\n",
      ">>\n",
      ">>Just borrowing your post, Mr. Rice...\n",
      ">>\n",
      ">>#In <2943656910.0.p00261@psilink.com> \"Robert Knowles\" <p00261@psilink.com> writes:\n",
      ">>#>Are you sure that democracy is the driving force behind\n",
      ">>#>the massacres in East Timor?  It is certainly odd that so many of the worlds\n",
      ">>#>massacres occur along religious lines, independently of any claims to a\n",
      ">>#>democratic form of government.  Are Ireland and Northern Ireland considered\n",
      ">>#>democracies?  Would you attribute their problems to democracy even though\n",
      ">>#>they are democracies?  Which motivates them more, religion or democracy?\n",
      ">>\n",
      ">>Mr. Rice was pointing out a fallacy in the assertion that Islam is evil\n",
      ">>because some of those who claim to follow it are evil, not asserting that \n",
      ">>democracy causes massacres, as I read it.  \n",
      "\n",
      ">That is right, he was.  And I was pointing out that his use of Indonesians\n",
      ">killing the East Timorese as a result of _democracy_ was a bit weak because\n",
      ">democracy is not much of a motivation for doing much of anything in Indonesia\n",
      ">from what I remember.  East Timor was a former Portguese territory which was\n",
      ">forcibly annexed by Indonesia.  Last I heard over 10,000 Indonesians have\n",
      ">died trying to keep East Timor a part of Indonesia.  Being a former \n",
      ">Portuguese colony, there is a strong Catholic influence in East Timor as I\n",
      ">recall.  So it seems a bit odd that yet again we have another war being\n",
      ">fought between people who just \"happen\" to have different religions.  Purely\n",
      ">coincidental, I guess.  But then the real motivation is to get the vote out\n",
      ">and make democracy work in Indonesia.\n",
      "\n",
      "I pointed out the secession movement in Aceh which has also been\n",
      "brutally dealt with in the past by the Indonesian government.  The\n",
      "harshly with all secessionist movements.\n",
      "the evidence, it appears to me that the Indonesian government has dealt\n",
      "very harshly with all secession movements.\n",
      "\n",
      "I know that the head of the Indonesian armed forces for a very long time\n",
      "was Benny Murdani -- a \"Christian\".  Indonesia has been heavy handed in\n",
      "East Timor for a long time , even when Murdani was head of the armed\n",
      "forces.  The people who make up the\n",
      "Indonesian government are in general motivated by national interests,\n",
      "not religious ones.\n",
      "\n",
      " Fred Rice\n",
      " darice@yoyo.cc.monash.edu.au   \n",
      "\n",
      "\n"
     ]
    }
   ],
   "source": [
    "print(content[2400])"
   ]
  },
  {
   "cell_type": "code",
   "execution_count": 66,
   "metadata": {},
   "outputs": [
    {
     "name": "stdout",
     "output_type": "stream",
     "text": [
      "From: osinski@chtm.eece.unm.edu (Marek Osinski)\n",
      "Subject: Re: Turkey-Cyprus-Bosnia-Serbia-Greece (Armenia-Azeris)\n",
      "Organization: University of New Mexico, Albuquerque\n",
      "Lines: 12\n",
      "Distribution: world\n",
      "NNTP-Posting-Host: chtm.eece.unm.edu\n",
      "\n",
      "In article <1993Apr15.174657.6176@news.uiowa.edu> mau@herky.cs.uiowa.edu (Mau Napoleon) writes:\n",
      "\n",
      ">Compromise on what, the invasion of Cyprus, the involment of Turkey in\n",
      ">Greek politics, the refusal of Turkey to accept 12 miles of territorial\n",
      ">waters as stated by international law, the properties of the Greeks of \n",
      ">Konstantinople, the ownership of the islands in the Greek lake,sorry, Aegean.\n",
      "\n",
      "Well, it did not take long to see how consequent some Greeks are in\n",
      "requesting that Thessaloniki are not called Solun by Bulgarian netters. \n",
      "So, Napoleon, why do you write about Konstantinople and not Istanbul?\n",
      "\n",
      "Marek Osinski\n",
      "\n"
     ]
    }
   ],
   "source": [
    "print(content[3000])"
   ]
  },
  {
   "cell_type": "code",
   "execution_count": 74,
   "metadata": {},
   "outputs": [
    {
     "name": "stdout",
     "output_type": "stream",
     "text": [
      "From: his3rrb@cabell.vcu.edu (Robert R. Bower)\n",
      "Subject: Re: VHS movie for sale\n",
      "Organization: Virginia Commonwealth University\n",
      "Expires: Sat, 15 May 1993 04:00:00 GMT\n",
      "Lines: 19\n",
      "\n",
      "\n",
      "Didn't McDonald's sell copies of \"Dances with Wovies\" for $7 not too\n",
      "long ago?\n",
      "\n",
      "They were also selling \"Babes in Toyland\" (the SCOTT BAIO version!)\n",
      "and something even more forgettable.\n",
      "\n",
      "Just think:  video drive-thru........\n",
      "\n",
      "\n",
      "\"I'll take a McRib, a McChicken, and a copy of Debbie Does McDallas\n",
      "to go\"\n",
      "\n",
      "\"Do you want fries and napkins with that?\"\n",
      "\n",
      "\n",
      "\n",
      "--Bob  (his3rrb@caball.vcu.edu)\n",
      "\"After this post, I'm really going to start studying.......really...\"\n",
      "\n"
     ]
    }
   ],
   "source": [
    "print(content[7000])"
   ]
  },
  {
   "cell_type": "code",
   "execution_count": 38,
   "metadata": {},
   "outputs": [],
   "source": [
    "tfidf_vectorizer = TfidfVectorizer(stop_words='english')"
   ]
  },
  {
   "cell_type": "code",
   "execution_count": 39,
   "metadata": {},
   "outputs": [],
   "source": [
    "X = tfidf_vectorizer.fit_transform(content)"
   ]
  },
  {
   "cell_type": "code",
   "execution_count": 42,
   "metadata": {},
   "outputs": [
    {
     "data": {
      "text/plain": [
       "(18846, 173451)"
      ]
     },
     "execution_count": 42,
     "metadata": {},
     "output_type": "execute_result"
    }
   ],
   "source": [
    "X.shape"
   ]
  },
  {
   "cell_type": "code",
   "execution_count": 44,
   "metadata": {},
   "outputs": [
    {
     "name": "stdout",
     "output_type": "stream",
     "text": [
      "Total number of words in the vectorizer is 173451\n"
     ]
    }
   ],
   "source": [
    "print(\"Total number of words in the vectorizer is\",X.shape[1])"
   ]
  },
  {
   "cell_type": "code",
   "execution_count": 45,
   "metadata": {},
   "outputs": [],
   "source": [
    "ML_model = KMeans(n_clusters=20, init='k-means++',max_iter=200,random_state=None,n_init=1)"
   ]
  },
  {
   "cell_type": "code",
   "execution_count": 46,
   "metadata": {},
   "outputs": [
    {
     "data": {
      "text/plain": [
       "KMeans(max_iter=200, n_clusters=20, n_init=1)"
      ]
     },
     "execution_count": 46,
     "metadata": {},
     "output_type": "execute_result"
    }
   ],
   "source": [
    "ML_model.fit(X)"
   ]
  },
  {
   "cell_type": "code",
   "execution_count": 47,
   "metadata": {},
   "outputs": [],
   "source": [
    "fp = open(\"model.pkl\",\"wb\")\n",
    "pickle.dump(ML_model,fp)\n",
    "fp.close()"
   ]
  },
  {
   "cell_type": "code",
   "execution_count": 48,
   "metadata": {},
   "outputs": [],
   "source": [
    "fp = open(\"tfidfVectorizer.pkl\",\"wb\")\n",
    "pickle.dump(tfidf_vectorizer,fp)\n",
    "fp.close()"
   ]
  },
  {
   "cell_type": "code",
   "execution_count": 50,
   "metadata": {},
   "outputs": [
    {
     "name": "stdout",
     "output_type": "stream",
     "text": [
      "Model Built\n"
     ]
    }
   ],
   "source": [
    "print(\"Model Built\")"
   ]
  },
  {
   "cell_type": "code",
   "execution_count": null,
   "metadata": {},
   "outputs": [],
   "source": []
  }
 ],
 "metadata": {
  "environment": {
   "name": "common-cpu.m53",
   "type": "gcloud",
   "uri": "gcr.io/deeplearning-platform-release/base-cpu:m53"
  },
  "kernelspec": {
   "display_name": "Python 3",
   "language": "python",
   "name": "python3"
  },
  "language_info": {
   "codemirror_mode": {
    "name": "ipython",
    "version": 3
   },
   "file_extension": ".py",
   "mimetype": "text/x-python",
   "name": "python",
   "nbconvert_exporter": "python",
   "pygments_lexer": "ipython3",
   "version": "3.7.8"
  }
 },
 "nbformat": 4,
 "nbformat_minor": 4
}
